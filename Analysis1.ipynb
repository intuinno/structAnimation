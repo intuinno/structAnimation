{
 "cells": [
  {
   "cell_type": "markdown",
   "metadata": {},
   "source": [
    "# Analysis of Structured Animation Result"
   ]
  },
  {
   "cell_type": "markdown",
   "metadata": {},
   "source": [
    "## Trial #1 : Chi-square Test and Binomial Test"
   ]
  },
  {
   "cell_type": "markdown",
   "metadata": {},
   "source": [
    "### Example of SA6: Color vs Position"
   ]
  },
  {
   "cell_type": "markdown",
   "metadata": {},
   "source": [
    "In this experiment, the participants was asked to select to compare **Color vs Position.** \n",
    "You can see an example here.  \n",
    "[SA6 Color vs Position question](https://purdue.qualtrics.com/SE/?SID=SV_2skkXzdEToFkqWx)\n"
   ]
  },
  {
   "cell_type": "markdown",
   "metadata": {},
   "source": [
    "From 50 participants, **14** people selected **Position-based grouping** and **32** selected **Color-based grouping**.  And **4** selected **other grouping**.  \n",
    "\n",
    "From these data, we would like to test two hypothesis.  \n",
    "\n",
    "* H1: There is natural grouping by property.\n",
    "* H2: Color is more strong than the position. "
   ]
  },
  {
   "cell_type": "markdown",
   "metadata": {},
   "source": [
    "##### Test of H1: There is natural grouping by property"
   ]
  },
  {
   "cell_type": "markdown",
   "metadata": {},
   "source": [
    " * $P_{color}$: Probability of selecting color-based grouping\n",
    " \n",
    " * $P_{position}$: Probability of selecting position-based grouping\n",
    "    \n",
    " * $P_{other}$: Probability of selecting other grouping\n",
    "    \n",
    "**Null Hypothesis $H_{0}$**: There is no natural grouping by property. \n",
    "   \n",
    "$$P_{color} = P_{position} = P_{other} = \\frac{1}{3}$$  \n",
    "    "
   ]
  },
  {
   "cell_type": "markdown",
   "metadata": {},
   "source": [
    "Since there are 3 categories, we can use chi-square test($\\chi^2$) for goodness of fit.  \n"
   ]
  },
  {
   "cell_type": "markdown",
   "metadata": {},
   "source": [
    "**Caution**: for chi-squared statics to hold, a sample with a sufficiently large size is assumed.  \n",
    "it is known that the expected numbers of occurrences in each category i is more than 10.  In our case, it holds because expected numbers of occurences are $50 \\times \\frac{1}{3} = 16.67$. "
   ]
  },
  {
   "cell_type": "markdown",
   "metadata": {},
   "source": [
    "$$\\chi^2=\\sum_{i}\\frac{(o_i - E_i)^2}{E_i}$$ \n",
    "\n",
    "where $E_i = Np_i$ is the expected number of cases in category i under the null hypothesis, and $o_i$ is the observed number of cases in category i. \n"
   ]
  },
  {
   "cell_type": "markdown",
   "metadata": {},
   "source": [
    "So by applying the numbers, \n",
    "\n",
    "$$\\chi_2 = \\frac{(14 - 16.67)^2}{16.67} + \\frac{(32 - 16.67)^2}{16.67} + \\frac{(4 - 16.67)^2}{16.67}$$"
   ]
  },
  {
   "cell_type": "code",
   "execution_count": 1,
   "metadata": {
    "collapsed": false
   },
   "outputs": [],
   "source": [
    "# Inputs are observation for events\n",
    "\n",
    "o1 = 14\n",
    "o2 = 32\n",
    "o3 = 4\n",
    "\n",
    "\n",
    "numSample = o1 + o2 + o3\n",
    "p = 1/3.0\n",
    "\n",
    "e = numSample * p\n",
    "\n",
    "chi_numerator = (o1 - e)**2 + (o2 - e)**2 + (o3 - e)**2\n",
    "chi = chi_numerator / e"
   ]
  },
  {
   "cell_type": "markdown",
   "metadata": {},
   "source": [
    "Using the scipy library gives us the probability of null hypothesis being true is lower than 1%.  "
   ]
  },
  {
   "cell_type": "code",
   "execution_count": 2,
   "metadata": {
    "collapsed": false
   },
   "outputs": [
    {
     "data": {
      "text/plain": [
       "(24.16, 5.6718228590279619e-06)"
      ]
     },
     "execution_count": 2,
     "metadata": {},
     "output_type": "execute_result"
    }
   ],
   "source": [
    "import scipy.stats\n",
    "scipy.stats.chisquare([14,32,4])"
   ]
  },
  {
   "cell_type": "markdown",
   "metadata": {},
   "source": [
    "So we can say that **H1: There is a natural grouping.** is true."
   ]
  },
  {
   "cell_type": "markdown",
   "metadata": {},
   "source": [
    "##### Test of H2: Color is more strong than than the position."
   ]
  },
  {
   "cell_type": "markdown",
   "metadata": {},
   "source": [
    "** Null Hypothesis: $H_0$**: $P_{color}$ = $P_{position}$"
   ]
  },
  {
   "cell_type": "markdown",
   "metadata": {},
   "source": [
    "**Caution:** I am not sure that below approach is right.  I remove the 4 participants who gave other ratings.  And use only the color and position to run the binomial test.  "
   ]
  },
  {
   "cell_type": "code",
   "execution_count": 3,
   "metadata": {
    "collapsed": false
   },
   "outputs": [
    {
     "data": {
      "text/plain": [
       "0.0056757957183890583"
      ]
     },
     "execution_count": 3,
     "metadata": {},
     "output_type": "execute_result"
    }
   ],
   "source": [
    "import scipy.stats\n",
    "scipy.stats.binom.sf(32-1,46, 0.5) # One sided binomial test"
   ]
  },
  {
   "cell_type": "markdown",
   "metadata": {},
   "source": [
    "This gives p-value of 0.0057, which means the null hypotesis is not supported with 1% confidence level."
   ]
  },
  {
   "cell_type": "markdown",
   "metadata": {},
   "source": [
    "So we can say the H2 is supported with 1% confidence level. "
   ]
  },
  {
   "cell_type": "markdown",
   "metadata": {},
   "source": [
    "### Application to the All experiment"
   ]
  },
  {
   "cell_type": "markdown",
   "metadata": {},
   "source": [
    "Now we apply this method to the all dataset. \n",
    "\n",
    "First the below is all the dataset recorded. \n"
   ]
  },
  {
   "cell_type": "code",
   "execution_count": 5,
   "metadata": {
    "collapsed": false
   },
   "outputs": [
    {
     "name": "stdout",
     "output_type": "stream",
     "text": [
      "1 :     Velocity vs Position\n",
      "Chi value is 1.0\n",
      "\t\t H1 is false.\n",
      "\t\t H2 is false\tPosition = Velocity\n",
      "2 :     Color vs Velocity\n",
      "Chi value is 24.52\n",
      "\t\t H1 is true with Confidence level 1%.\n",
      "\t\t H2 is false\tColor = Velocity\n",
      "3 :     Shape vs Velocity\n",
      "Chi value is 26.08\n",
      "\t\t H1 is true with Confidence level 1%.\n",
      "\t\t H2 is false\tVelocity = Shape\n",
      "4 :     Size vs Velocity\n",
      "Chi value is 24.52\n",
      "\t\t H1 is true with Confidence level 1%.\n",
      "\t\t H2 is false\tVelocity = Size\n",
      "5 :     Position vs Acc\n",
      "Chi value is 6.76\n",
      "\t\t H1 is false.\n",
      "\t\t H2 is false\tAcc = Position\n",
      "6 :     Position vs Color\n",
      "Chi value is 24.16\n",
      "\t\t H1 is true with Confidence level 1%.\n",
      "\t\t H2 is true\tColor > Position\n",
      "7 :     Shape vs Position\n",
      "Chi value is 14.56\n",
      "\t\t H1 is true with Confidence level 1%.\n",
      "\t\t H2 is true\tShape > Position\n",
      "8 :     Velocity vs Acc\n",
      "Chi value is 8.92\n",
      "\t\t H1 is false.\n",
      "\t\t H2 is false\tAcc = Velocity\n",
      "9 :     Size vs Position\n",
      "Chi value is 20.32\n",
      "\t\t H1 is true with Confidence level 1%.\n",
      "\t\t H2 is true\tSize > Position\n",
      "10 :     Shape vs Color\n",
      "Chi value is 1.0\n",
      "\t\t H1 is false.\n",
      "\t\t H2 is false\tColor = Shape\n",
      "11 :     Shape vs Size\n",
      "Chi value is 8.68\n",
      "\t\t H1 is false.\n",
      "\t\t H2 is false\tSize = Shape\n",
      "12 :     Size vs Acc\n",
      "Chi value is 1.0\n",
      "\t\t H1 is false.\n",
      "\t\t H2 is false\tAcc = Size\n",
      "13 :     Color vs Size\n",
      "Chi value is 22.12\n",
      "\t\t H1 is true with Confidence level 1%.\n",
      "\t\t H2 is true\tColor > Size\n",
      "14 :     Color vs Acc\n",
      "Chi value is 19.24\n",
      "\t\t H1 is true with Confidence level 1%.\n",
      "\t\t H2 is false\tColor = Acc\n",
      "15 :     Shape vs Acc\n",
      "Chi value is 10.72\n",
      "\t\t H1 is true with Confidence level 1%.\n",
      "\t\t H2 is false\tShape = Acc\n"
     ]
    }
   ],
   "source": [
    "import scipy.stats\n",
    "\n",
    "\n",
    "SA = {}\n",
    "SA[1] = {'count':[1,1,0], 'label':['Velocity','Position', 'Other']}\n",
    "SA[2] = {'count':[29, 20, 1], 'label':['Color','Velocity','Other']}\n",
    "SA[3] = {'count':[22, 28, 0], 'label':['Shape','Velocity','Other']}\n",
    "SA[4] = {'count':[20,29, 1], 'label':['Size','Velocity','Other']}\n",
    "SA[5] = {'count':[21,21,8], 'label':['Position','Acc','Other']}\n",
    "SA[6] = {'count':[14,32,4], 'label':['Position','Color','Other']}\n",
    "SA[7] = {'count':[28,16,6], 'label':['Shape','Position','Other']}\n",
    "SA[8] = {'count':[15,26,9], 'label':['Velocity','Acc','Other']}\n",
    "SA[9] = {'count':[30,16,4], 'label':['Size','Position','Other']}\n",
    "SA[10] = {'count':[1,1,0], 'label':['Shape','Color','Other']}\n",
    "SA[11] = {'count':[20,23,7], 'label':['Shape','Size','Other']}\n",
    "SA[12] = {'count':[1,1,0], 'label':['Size','Acc','Other']}\n",
    "SA[13] = {'count':[31,15,4], 'label':['Color','Size','Other']}\n",
    "SA[14] = {'count':[28,19,3], 'label':['Color','Acc','Other']}\n",
    "SA[15] = {'count':[24,20,6], 'label':['Shape','Acc','Other']}\n",
    "\n",
    "for index,data in SA.iteritems():\n",
    "    print str(index) + ' :     ' +  data['label'][0] + ' vs ' + data['label'][1]\n",
    "    \n",
    "#     Test of H1 using chi square test\n",
    "    [chi, pValue] = scipy.stats.chisquare(data['count'])\n",
    "    print 'Chi value is ' + str(chi)\n",
    "    if (pValue < 0.005):\n",
    "        print '\\t\\t H1 is true with Confidence level 1%.' \n",
    "    else:\n",
    "        print '\\t\\t H1 is false.'\n",
    "        \n",
    "#    Test of H2 using binomial test\n",
    "    if data['count'][0] > data['count'][1]:\n",
    "        largeCount = data['count'][0]\n",
    "        largeLabel = data['label'][0]\n",
    "        smallCount = data['count'][1]\n",
    "        smallLabel = data['label'][1]\n",
    "        \n",
    "    else:\n",
    "        largeCount = data['count'][1]\n",
    "        largeLabel = data['label'][1]\n",
    "        smallCount = data['count'][0]\n",
    "        smallLabel = data['label'][0]\n",
    "        \n",
    "    pValue = scipy.stats.binom.sf(largeCount-1,smallCount+largeCount, 0.5) # One sided binomial test\n",
    "    if (pValue < 0.05):\n",
    "        print '\\t\\t H2 is true\\t' + largeLabel + ' > ' + smallLabel\n",
    "    else:\n",
    "        print '\\t\\t H2 is false\\t' + largeLabel + ' = ' + smallLabel\n",
    "    "
   ]
  },
  {
   "cell_type": "markdown",
   "metadata": {},
   "source": [
    "Color > Size = Shape > Position > Velocity "
   ]
  },
  {
   "cell_type": "markdown",
   "metadata": {},
   "source": [
    "With Acc, there is no supporting arguments.  It suggests that Acc is not tested meaningfully. "
   ]
  },
  {
   "cell_type": "markdown",
   "metadata": {},
   "source": [
    "## Trial #2 : Thurstone-Mosteller Least Squares Method"
   ]
  },
  {
   "cell_type": "code",
   "execution_count": 12,
   "metadata": {
    "collapsed": false
   },
   "outputs": [],
   "source": [
    "\n",
    "import scipy.stats\n",
    "import numpy as np\n",
    "\n",
    "SA = {}\n",
    "SA[1] = {'count':[1,1,0], 'label':['Velocity','Position', 'Other']}\n",
    "SA[2] = {'count':[29, 20, 1], 'label':['Color','Velocity','Other']}\n",
    "SA[3] = {'count':[22, 28, 0], 'label':['Shape','Velocity','Other']}\n",
    "SA[4] = {'count':[20,29, 1], 'label':['Size','Velocity','Other']}\n",
    "SA[5] = {'count':[21,21,8], 'label':['Position','Acc','Other']}\n",
    "SA[6] = {'count':[14,32,4], 'label':['Position','Color','Other']}\n",
    "SA[7] = {'count':[28,16,6], 'label':['Shape','Position','Other']}\n",
    "SA[8] = {'count':[15,26,9], 'label':['Velocity','Acc','Other']}\n",
    "SA[9] = {'count':[30,16,4], 'label':['Size','Position','Other']}\n",
    "SA[10] = {'count':[1,1,0], 'label':['Shape','Color','Other']}\n",
    "SA[11] = {'count':[20,23,7], 'label':['Shape','Size','Other']}\n",
    "SA[12] = {'count':[1,1,0], 'label':['Size','Acc','Other']}\n",
    "SA[13] = {'count':[31,15,4], 'label':['Color','Size','Other']}\n",
    "SA[14] = {'count':[28,19,3], 'label':['Color','Acc','Other']}\n",
    "SA[15] = {'count':[24,20,6], 'label':['Shape','Acc','Other']}\n",
    "\n",
    "labelOrder = {'Velocity':0,'Position':1,'Color':2,'Shape':3,'Size':4,'Acc':5}\n",
    "labels = ['Velocity','Position','Color','Shape','Size','Acc']\n",
    "\n",
    "# Counts is a n-by-n matrix where\n",
    "#  Counts[i,j] = # people who prefer option i over option j\n",
    "# N is total number of experiment for each comparision \n",
    "\n",
    "Counts = np.zeros([6,6])\n",
    "\n",
    "for index,data in SA.iteritems():\n",
    "#     print str(index) + ' :     ' +  data['label'][0] + ' vs ' + data['label'][1]\n",
    "    Counts[labelOrder[data['label'][0]],labelOrder[data['label'][1]]] = data['count'][0]\n",
    "    Counts[labelOrder[data['label'][1]],labelOrder[data['label'][0]]] = data['count'][1]\n",
    "    \n",
    "\n",
    "\n"
   ]
  },
  {
   "cell_type": "code",
   "execution_count": 13,
   "metadata": {
    "collapsed": false
   },
   "outputs": [
    {
     "data": {
      "text/plain": [
       "array([[  0.,   1.,  20.,  28.,  29.,  15.],\n",
       "       [  1.,   0.,  14.,  16.,  16.,  21.],\n",
       "       [ 29.,  32.,   0.,   1.,  31.,  28.],\n",
       "       [ 22.,  28.,   1.,   0.,  20.,  24.],\n",
       "       [ 20.,  30.,  15.,  23.,   0.,   1.],\n",
       "       [ 26.,  21.,  19.,  20.,   1.,   0.]])"
      ]
     },
     "execution_count": 13,
     "metadata": {},
     "output_type": "execute_result"
    }
   ],
   "source": [
    "Counts"
   ]
  },
  {
   "cell_type": "code",
   "execution_count": null,
   "metadata": {
    "collapsed": true
   },
   "outputs": [],
   "source": [
    "N = Counts + Counts.T\n",
    "\n",
    "P = Counts / (N + (N==0))\n",
    "\n",
    "P[np.eye(6)>0] = 0.5\n",
    "\n",
    "Z = scipy.stats.norm.ppf(P)\n",
    "\n",
    "S = (-1) * np.mean(Z, axis=0)\n",
    "\n",
    "\n"
   ]
  },
  {
   "cell_type": "code",
   "execution_count": 10,
   "metadata": {
    "collapsed": false
   },
   "outputs": [
    {
     "data": {
      "image/png": "[encoded data removed]",
      "text/plain": [
       "<matplotlib.figure.Figure at 0x109aaf790>"
      ]
     },
     "metadata": {},
     "output_type": "display_data"
    }
   ],
   "source": [
    "%matplotlib inline\n",
    "import matplotlib.pyplot as plt\n",
    "\n",
    "y = np.ones(6)\n",
    "\n",
    "plt.scatter(S, y)\n",
    "for index, x in enumerate(S):\n",
    "    plt.annotate( labels[index],\n",
    "                 xy=(x, 1), xytext = (20,20+20*index),textcoords = 'offset points', ha = 'right', va = 'bottom',\n",
    "        bbox = dict(boxstyle = 'round,pad=0.5', fc = 'yellow', alpha = 0.5),\n",
    "        arrowprops = dict(arrowstyle = '->', connectionstyle = 'arc3,rad=0'))\n",
    "plt.show()"
   ]
  },
  {
   "cell_type": "code",
   "execution_count": 8,
   "metadata": {
    "collapsed": false
   },
   "outputs": [
    {
     "data": {
      "text/plain": [
       "array([ inf,  inf,  inf,  inf,  inf,  inf])"
      ]
     },
     "execution_count": 8,
     "metadata": {},
     "output_type": "execute_result"
    }
   ],
   "source": [
    "S"
   ]
  },
  {
   "cell_type": "code",
   "execution_count": 7,
   "metadata": {
    "collapsed": false
   },
   "outputs": [],
   "source": []
  }
 ],
 "metadata": {
  "kernelspec": {
   "display_name": "Python 2",
   "language": "python",
   "name": "python2"
  },
  "language_info": {
   "codemirror_mode": {
    "name": "ipython",
    "version": 2
   },
   "file_extension": ".py",
   "mimetype": "text/x-python",
   "name": "python",
   "nbconvert_exporter": "python",
   "pygments_lexer": "ipython2",
   "version": "2.7.9"
  }
 },
 "nbformat": 4,
 "nbformat_minor": 0
}
