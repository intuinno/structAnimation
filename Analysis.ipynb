{
 "cells": [
  {
   "cell_type": "markdown",
   "metadata": {},
   "source": [
    "# Analysis of Structured Animation Result"
   ]
  },
  {
   "cell_type": "markdown",
   "metadata": {},
   "source": [
    "With Acc, there is no supporting arguments.  It suggests that Acc is not tested meaningfully. "
   ]
  },
  {
   "cell_type": "markdown",
   "metadata": {},
   "source": [
    "##  Thurstone-Mosteller Least Squares Method"
   ]
  },
  {
   "cell_type": "markdown",
   "metadata": {},
   "source": [
    "### Prerequisite \n",
    "The required library will be loaded. "
   ]
  },
  {
   "cell_type": "code",
   "execution_count": 29,
   "metadata": {
    "collapsed": false
   },
   "outputs": [],
   "source": [
    "import scipy.stats\n",
    "import numpy as np\n",
    "import pandas as pd\n"
   ]
  },
  {
   "cell_type": "markdown",
   "metadata": {},
   "source": [
    "### Data input\n",
    "Here, we will load the dataset."
   ]
  },
  {
   "cell_type": "code",
   "execution_count": 48,
   "metadata": {
    "collapsed": false,
    "scrolled": true
   },
   "outputs": [
    {
     "name": "stdout",
     "output_type": "stream",
     "text": [
      "           SS   SL   SP   DS   DL   DP\n",
      "tasktype                              \n",
      "DLDS        0    0    0  206   96    0\n",
      "DPDL        0    0    0    0  100  203\n",
      "DPDS        0    0    0  128    0  174\n",
      "SLDP        0  100    0    0    0  196\n",
      "SLDS        0  132    0  162    0    0\n",
      "SLSS      137  165    0    0    0    0\n",
      "SPDL        0    0  142    0  159    0\n",
      "SPDS        0    0  103  198    0    0\n",
      "SPSL        0  151  148    0    0    0\n",
      "SSDL      110    0    0    0  190    0\n",
      "SSDP       94    0    0    0    0  209\n",
      "SSSP      143    0  159    0    0    0\n"
     ]
    }
   ],
   "source": [
    "\n",
    "labelOrder = {'SS':0,'SL':1,'SP':2,'DS':3,'DL':4,'DP':5}\n",
    "labels = ['SS','SL','SP','DS','DL','DP']\n",
    "\n",
    "originalData  = pd.read_csv('logs.csv',sep=';')\n",
    "\n",
    "result = originalData.groupby('tasktype').sum()\n",
    "\n",
    "result = result.drop('participant',1)\n",
    "\n",
    "print result"
   ]
  },
  {
   "cell_type": "markdown",
   "metadata": {},
   "source": [
    "### Trial 1 - Using same strength for unknown values\n",
    "\n",
    "Unfortunately, the pairwise ranking method assumes all 15 comparison value is available.  However in our experiments the dynamic and static property of same visual variable, such as DS vs SS is not available.   I used two different assumptions to get the following ranking. \n",
    "\n",
    "**Assumption** -  When dynamic property and static property is same. \n",
    "\n",
    "Counts is a n-by-n matrix where \n",
    "\n",
    "Counts[i,j] = # people who prefer option i over option j\n",
    "\n",
    "N is total number of experiment for each comparision\n",
    "\n"
   ]
  },
  {
   "cell_type": "code",
   "execution_count": 43,
   "metadata": {
    "collapsed": false
   },
   "outputs": [
    {
     "name": "stdout",
     "output_type": "stream",
     "text": [
      "[[   1.  137.  143.    1.  110.   94.]\n",
      " [ 165.    1.  151.  132.    1.  100.]\n",
      " [ 159.  148.    1.  103.  142.    1.]\n",
      " [   1.  162.  198.    1.  206.  128.]\n",
      " [ 190.    1.  159.   96.    1.  100.]\n",
      " [ 209.  196.    1.  174.  203.    1.]]\n"
     ]
    }
   ],
   "source": [
    "Counts = np.zeros([6,6])\n",
    "\n",
    "for i in range(6):\n",
    "    for j in range(6):\n",
    "        if labels[i]+ labels[j] in result.index:\n",
    "            Counts[i,j] = result.loc[labels[i]+labels[j]][labels[i]]\n",
    "        elif labels[j]+ labels[i] in result.index:\n",
    "            Counts[i,j] = result.loc[labels[j]+labels[i]][labels[i]]\n",
    "        else:\n",
    "            Counts[i,j] = 1\n",
    "\n",
    "print Counts"
   ]
  },
  {
   "cell_type": "code",
   "execution_count": 31,
   "metadata": {
    "collapsed": false
   },
   "outputs": [
    {
     "name": "stdout",
     "output_type": "stream",
     "text": [
      "[-0.16980069 -0.06959528 -0.07057606  0.13604707 -0.08365265  0.25757761]\n"
     ]
    }
   ],
   "source": [
    "\n",
    "N = Counts + Counts.T\n",
    "\n",
    "\n",
    "P = Counts / (N + (N==0))\n",
    "\n",
    "P[np.eye(6)>0] = 0.5\n",
    "\n",
    "Z = scipy.stats.norm.ppf(P)\n",
    "\n",
    "S = (-1) * np.mean(Z, axis=0)\n",
    "\n",
    "print S\n",
    "\n"
   ]
  },
  {
   "cell_type": "code",
   "execution_count": 32,
   "metadata": {
    "collapsed": false
   },
   "outputs": [
    {
     "data": {
      "image/png": "[encoded data removed]",
      "text/plain": [
       "<matplotlib.figure.Figure at 0x10cfbec90>"
      ]
     },
     "metadata": {},
     "output_type": "display_data"
    }
   ],
   "source": [
    "%matplotlib inline\n",
    "import matplotlib.pyplot as plt\n",
    "\n",
    "y = np.ones(6)\n",
    "\n",
    "plt.scatter(S, y)\n",
    "for index, x in enumerate(S):\n",
    "    plt.annotate( labels[index],\n",
    "                 xy=(x, 1), xytext = (20,20+20*index),textcoords = 'offset points', ha = 'right', va = 'bottom',\n",
    "        bbox = dict(boxstyle = 'round,pad=0.5', fc = 'yellow', alpha = 0.5),\n",
    "        arrowprops = dict(arrowstyle = '->', connectionstyle = 'arc3,rad=0'))\n",
    "plt.show()"
   ]
  },
  {
   "cell_type": "markdown",
   "metadata": {
    "collapsed": false
   },
   "source": [
    "### Trial 2 : Approximating unknown results by ratio of known values\n",
    "\n",
    "For example, we approximate the DL vs SL using SP \n",
    "\n",
    "DL : SP = 159:142\n",
    "\n",
    "SP : SL = 148:151\n",
    "\n",
    "DL : SL = 159 x 148 : 142 x 151"
   ]
  },
  {
   "cell_type": "code",
   "execution_count": 54,
   "metadata": {
    "collapsed": false
   },
   "outputs": [
    {
     "name": "stdout",
     "output_type": "stream",
     "text": [
      "153.401434152\n",
      "146.430871062\n",
      "[[   1.          137.          143.            1.          110.           94.        ]\n",
      " [ 165.            1.          151.          132.          146.43087106\n",
      "   100.        ]\n",
      " [ 159.          148.            1.          103.          142.            1.        ]\n",
      " [   1.          162.          198.            1.          206.          128.        ]\n",
      " [ 190.          153.40143415  159.           96.            1.          100.        ]\n",
      " [ 209.          196.            1.          174.          203.            1.        ]]\n"
     ]
    }
   ],
   "source": [
    "Counts[4,1] = np.sqrt(Counts[4,2] * Counts[2,1])\n",
    "Counts[1,4] = np.sqrt(Counts[1,2] * Counts[2,4])\n",
    "\n",
    "print Counts[4,1] \n",
    "print Counts[1,4]\n",
    "print Counts \n"
   ]
  },
  {
   "cell_type": "code",
   "execution_count": 55,
   "metadata": {
    "collapsed": false
   },
   "outputs": [
    {
     "name": "stdout",
     "output_type": "stream",
     "text": [
      "[-0.16980069 -0.07445218 -0.07057606  0.13604707 -0.07879574  0.25757761]\n"
     ]
    }
   ],
   "source": [
    "\n",
    "N = Counts + Counts.T\n",
    "\n",
    "\n",
    "P = Counts / (N + (N==0))\n",
    "\n",
    "P[np.eye(6)>0] = 0.5\n",
    "\n",
    "Z = scipy.stats.norm.ppf(P)\n",
    "\n",
    "S2 = (-1) * np.mean(Z, axis=0)\n",
    "\n",
    "print S2\n"
   ]
  },
  {
   "cell_type": "code",
   "execution_count": 56,
   "metadata": {
    "collapsed": false
   },
   "outputs": [
    {
     "data": {
      "image/png": "[encoded data removed]",
      "text/plain": [
       "<matplotlib.figure.Figure at 0x10c495590>"
      ]
     },
     "metadata": {},
     "output_type": "display_data"
    }
   ],
   "source": [
    "%matplotlib inline\n",
    "import matplotlib.pyplot as plt\n",
    "\n",
    "y = np.ones(6)\n",
    "\n",
    "plt.scatter(S, y)\n",
    "for index, x in enumerate(S):\n",
    "    plt.annotate( labels[index],\n",
    "                 xy=(x, 1), xytext = (20,20+20*index),textcoords = 'offset points', ha = 'right', va = 'bottom',\n",
    "        bbox = dict(boxstyle = 'round,pad=0.5', fc = 'yellow', alpha = 0.5),\n",
    "        arrowprops = dict(arrowstyle = '->', connectionstyle = 'arc3,rad=0'))\n",
    "plt.show()"
   ]
  },
  {
   "cell_type": "code",
   "execution_count": null,
   "metadata": {
    "collapsed": true
   },
   "outputs": [],
   "source": []
  },
  {
   "cell_type": "code",
   "execution_count": null,
   "metadata": {
    "collapsed": true
   },
   "outputs": [],
   "source": []
  }
 ],
 "metadata": {
  "kernelspec": {
   "display_name": "Python 2",
   "language": "python",
   "name": "python2"
  },
  "language_info": {
   "codemirror_mode": {
    "name": "ipython",
    "version": 2
   },
   "file_extension": ".py",
   "mimetype": "text/x-python",
   "name": "python",
   "nbconvert_exporter": "python",
   "pygments_lexer": "ipython2",
   "version": "2.7.9"
  }
 },
 "nbformat": 4,
 "nbformat_minor": 0
}
